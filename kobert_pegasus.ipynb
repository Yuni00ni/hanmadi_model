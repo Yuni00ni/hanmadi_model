{
 "cells": [
  {
   "cell_type": "markdown",
   "id": "f1583431",
   "metadata": {},
   "source": [
    "# KoBERT-Pegasus 기반 한국어 요약 생성 노트북\n",
    "\n",
    "이 노트북은 crawling_origin_with_summary.csv의 원본 텍스트를 KoBERT-Pegasus(pegasus-like) 모델로 요약하는 전체 파이프라인을 제공합니다."
   ]
  },
  {
   "cell_type": "code",
   "execution_count": null,
   "id": "6d209e1f",
   "metadata": {},
   "outputs": [],
   "source": [
    "# 1. 환경 준비 및 필수 패키지 설치\n",
    "import sys, subprocess\n",
    "\n",
    "def install(package):\n",
    "    subprocess.check_call([sys.executable, '-m', 'pip', 'install', package])\n",
    "\n",
    "for p in ['transformers', 'torch', 'pandas', 'tqdm', 'sentencepiece']:\n",
    "    try:\n",
    "        __import__(p.split('==')[0].split('>=')[0])\n",
    "    except ImportError:\n",
    "        install(p)\n",
    "\n",
    "import pandas as pd, torch\n",
    "from transformers import AutoTokenizer, AutoModelForSeq2SeqLM\n",
    "from tqdm import tqdm\n",
    "\n",
    "device = torch.device('cuda' if torch.cuda.is_available() else 'cpu')\n",
    "print('Device:', device)"
   ]
  },
  {
   "cell_type": "code",
   "execution_count": null,
   "id": "49410ea8",
   "metadata": {},
   "outputs": [],
   "source": [
    "# 2. 데이터 로드\n",
    "\n",
    "def safe_read_csv(path):\n",
    "    for enc in ['utf-8-sig', 'utf-8', 'cp949', 'euc-kr']:\n",
    "        try: return pd.read_csv(path, encoding=enc)\n",
    "        except: continue\n",
    "    raise ValueError(f'CSV 파일 읽기 실패: {path}')\n",
    "\n",
    "df = safe_read_csv('data/crawling_origin_with_summary.csv')\n",
    "# 원본 텍스트 컬럼 자동 감지\n",
    "orig_col = next((c for c in df.columns if '본문' in c or 'content' in c or '원본' in c), df.columns[0])\n",
    "print('원본 텍스트 컬럼:', orig_col)\n",
    "texts = df[orig_col].astype(str).fillna('').tolist()\n",
    "print('총 샘플 수:', len(texts))"
   ]
  },
  {
   "cell_type": "code",
   "execution_count": null,
   "id": "8384755e",
   "metadata": {},
   "outputs": [],
   "source": [
    "# 3. KoBERT-Pegasus(pegasus-like) 모델 및 토크나이저 로드\n",
    "# 대표적인 pegasus-like 한국어 모델: 'kakaobrain/kobart' 예시 사용\n",
    "model_name = 'kakaobrain/kobart'\n",
    "tokenizer = AutoTokenizer.from_pretrained(model_name)\n",
    "model = AutoModelForSeq2SeqLM.from_pretrained(model_name).to(device)\n",
    "print('모델 및 토크나이저 로드 완료:', model_name)"
   ]
  },
  {
   "cell_type": "code",
   "execution_count": null,
   "id": "da5fe91c",
   "metadata": {},
   "outputs": [],
   "source": [
    "# 4. 요약 생성 함수\n",
    "def generate_summary(text, max_length=128):\n",
    "    inputs = tokenizer(text, return_tensors='pt', truncation=True, max_length=512).to(device)\n",
    "    with torch.no_grad():\n",
    "        summary_ids = model.generate(**inputs, max_length=max_length, num_beams=3, early_stopping=True)\n",
    "    return tokenizer.decode(summary_ids[0], skip_special_tokens=True)"
   ]
  },
  {
   "cell_type": "code",
   "execution_count": null,
   "id": "344353ab",
   "metadata": {},
   "outputs": [],
   "source": [
    "# 5. 전체 데이터 요약 생성 및 저장\n",
    "summaries = []\n",
    "for text in tqdm(texts, desc='요약 생성', mininterval=1.0):\n",
    "    if not text or len(text.strip()) < 20:\n",
    "        summaries.append('')\n",
    "        continue\n",
    "    try:\n",
    "        summary = generate_summary(text)\n",
    "    except Exception as e:\n",
    "        summary = f'요약 실패: {str(e)[:30]}'\n",
    "    summaries.append(summary)\n",
    "df['pegasus_summary'] = summaries\n",
    "df.to_csv('pegasus_summaries.csv', index=False, encoding='utf-8-sig')\n",
    "print('요약 결과 저장 완료: pegasus_summaries.csv')"
   ]
  },
  {
   "cell_type": "code",
   "execution_count": null,
   "id": "7c22965f",
   "metadata": {},
   "outputs": [],
   "source": [
    "# 6. 샘플 결과 확인\n",
    "for i in range(3):\n",
    "    print(f'원본: {texts[i][:100]}...')\n",
    "    print(f'요약: {df[\"pegasus_summary\"][i]}')\n",
    "    print('-'*60)"
   ]
  }
 ],
 "metadata": {
  "language_info": {
   "name": "python"
  }
 },
 "nbformat": 4,
 "nbformat_minor": 5
}
